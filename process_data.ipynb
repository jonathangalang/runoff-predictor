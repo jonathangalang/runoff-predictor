{
 "cells": [
  {
   "cell_type": "code",
   "execution_count": 44,
   "id": "01ff15ec-0eb2-4611-afdc-d37d98afd22a",
   "metadata": {},
   "outputs": [],
   "source": [
    "import glob, os"
   ]
  },
  {
   "cell_type": "code",
   "execution_count": 45,
   "id": "e6b522af-d812-4969-a2b7-a6862becf548",
   "metadata": {},
   "outputs": [],
   "source": [
    "# Define the path to the 'Data' folder\n",
    "data_folder = os.path.join(os.getcwd(), \"Data\")\n",
    "\n",
    "# Use glob to recursively find all .tif files in the folder and its subfolders\n",
    "tif_files = glob.glob(os.path.join(data_folder, '**', '*.tif'), recursive=True)"
   ]
  },
  {
   "cell_type": "code",
   "execution_count": 46,
   "id": "4a78027f-5c61-453f-80c2-21bca54df804",
   "metadata": {},
   "outputs": [],
   "source": [
    "import rasterio\n",
    "import rasterio.plot"
   ]
  },
  {
   "cell_type": "code",
   "execution_count": 60,
   "id": "0dfb5e42-afe1-4467-9473-3000a92eb1a8",
   "metadata": {},
   "outputs": [
    {
     "name": "stdout",
     "output_type": "stream",
     "text": [
      "SnowMeltDuration\n",
      "SnowMeltOnsetDate\n",
      "LastDaySpringSnow\n",
      "AnnualSnowoffDates\n",
      "['SnowMeltDuration', 'SnowMeltOnsetDate', 'LastDaySpringSnow', 'AnnualSnowoffDates']\n"
     ]
    }
   ],
   "source": [
    "# Get the current working directory\n",
    "current_dir = os.getcwd()\n",
    "\n",
    "# Obtain features from Data directory\n",
    "feature_names = [f.name for f in os.scandir(current_dir + \"/Data\") if f.is_dir()]\n",
    "\n"
   ]
  },
  {
   "cell_type": "code",
   "execution_count": 55,
   "id": "8060d649-90f1-4c1f-b3b6-76e8b2fd7fc3",
   "metadata": {},
   "outputs": [
    {
     "ename": "IndexError",
     "evalue": "no such group",
     "output_type": "error",
     "traceback": [
      "\u001b[0;31m---------------------------------------------------------------------------\u001b[0m",
      "\u001b[0;31mIndexError\u001b[0m                                Traceback (most recent call last)",
      "Cell \u001b[0;32mIn[55], line 1\u001b[0m\n\u001b[0;32m----> 1\u001b[0m dataset \u001b[38;5;241m=\u001b[39m \u001b[43mTemporalDataset\u001b[49m\u001b[43m(\u001b[49m\u001b[38;5;124;43m\"\u001b[39;49m\u001b[38;5;124;43mData\u001b[39;49m\u001b[38;5;124;43m\"\u001b[39;49m\u001b[43m)\u001b[49m\n\u001b[1;32m      3\u001b[0m \u001b[38;5;66;03m# Access data for a specific year\u001b[39;00m\n\u001b[1;32m      4\u001b[0m year \u001b[38;5;241m=\u001b[39m \u001b[38;5;241m2014\u001b[39m\n",
      "Cell \u001b[0;32mIn[54], line 11\u001b[0m, in \u001b[0;36mTemporalDataset.__init__\u001b[0;34m(self, data_dir)\u001b[0m\n\u001b[1;32m      6\u001b[0m \u001b[38;5;28;01mdef\u001b[39;00m \u001b[38;5;21m__init__\u001b[39m(\u001b[38;5;28mself\u001b[39m, data_dir):\n\u001b[1;32m      7\u001b[0m \u001b[38;5;250m    \u001b[39m\u001b[38;5;124;03m\"\"\"\u001b[39;00m\n\u001b[1;32m      8\u001b[0m \u001b[38;5;124;03m    Args:\u001b[39;00m\n\u001b[1;32m      9\u001b[0m \u001b[38;5;124;03m        data_dir (str): Path to the main folder containing subfolders with .tif files.\u001b[39;00m\n\u001b[1;32m     10\u001b[0m \u001b[38;5;124;03m    \"\"\"\u001b[39;00m\n\u001b[0;32m---> 11\u001b[0m     \u001b[38;5;28mself\u001b[39m\u001b[38;5;241m.\u001b[39mdata \u001b[38;5;241m=\u001b[39m \u001b[38;5;28;43mself\u001b[39;49m\u001b[38;5;241;43m.\u001b[39;49m\u001b[43m_load_data\u001b[49m\u001b[43m(\u001b[49m\u001b[43mdata_dir\u001b[49m\u001b[43m)\u001b[49m\n",
      "Cell \u001b[0;32mIn[54], line 35\u001b[0m, in \u001b[0;36mTemporalDataset._load_data\u001b[0;34m(self, data_dir)\u001b[0m\n\u001b[1;32m     33\u001b[0m match \u001b[38;5;241m=\u001b[39m year_pattern\u001b[38;5;241m.\u001b[39msearch(os\u001b[38;5;241m.\u001b[39mpath\u001b[38;5;241m.\u001b[39mbasename(file_path))\n\u001b[1;32m     34\u001b[0m \u001b[38;5;28;01mif\u001b[39;00m match:\n\u001b[0;32m---> 35\u001b[0m     year \u001b[38;5;241m=\u001b[39m \u001b[38;5;28mint\u001b[39m(\u001b[43mmatch\u001b[49m\u001b[38;5;241;43m.\u001b[39;49m\u001b[43mgroup\u001b[49m\u001b[43m(\u001b[49m\u001b[38;5;241;43m1\u001b[39;49m\u001b[43m)\u001b[49m)\n\u001b[1;32m     36\u001b[0m     \u001b[38;5;28;01mif\u001b[39;00m year \u001b[38;5;129;01mnot\u001b[39;00m \u001b[38;5;129;01min\u001b[39;00m data:\n\u001b[1;32m     37\u001b[0m         data[year] \u001b[38;5;241m=\u001b[39m []\n",
      "\u001b[0;31mIndexError\u001b[0m: no such group"
     ]
    }
   ],
   "source": []
  },
  {
   "cell_type": "code",
   "execution_count": null,
   "id": "36707991-03ea-4d7a-8f9f-92298f2757a4",
   "metadata": {},
   "outputs": [],
   "source": []
  }
 ],
 "metadata": {
  "kernelspec": {
   "display_name": "Python 3 (ipykernel)",
   "language": "python",
   "name": "python3"
  },
  "language_info": {
   "codemirror_mode": {
    "name": "ipython",
    "version": 3
   },
   "file_extension": ".py",
   "mimetype": "text/x-python",
   "name": "python",
   "nbconvert_exporter": "python",
   "pygments_lexer": "ipython3",
   "version": "3.8.5"
  }
 },
 "nbformat": 4,
 "nbformat_minor": 5
}
